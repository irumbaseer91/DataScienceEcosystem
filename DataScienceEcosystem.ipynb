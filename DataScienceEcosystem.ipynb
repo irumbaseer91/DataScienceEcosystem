{
  "metadata": {
    "kernelspec": {
      "name": "python",
      "display_name": "Python (Pyodide)",
      "language": "python"
    },
    "language_info": {
      "codemirror_mode": {
        "name": "python",
        "version": 3
      },
      "file_extension": ".py",
      "mimetype": "text/x-python",
      "name": "python",
      "nbconvert_exporter": "python",
      "pygments_lexer": "ipython3",
      "version": "3.8"
    }
  },
  "nbformat_minor": 5,
  "nbformat": 4,
  "cells": [
    {
      "id": "7c7fc2ef-7000-44e3-a43a-d372f12d93e6",
      "cell_type": "markdown",
      "source": "# Data Science Tools and Ecosystem",
      "metadata": {}
    },
    {
      "id": "c3fdc6e4-dd4f-42d6-89d2-06dd52d59616",
      "cell_type": "markdown",
      "source": "In this notebook, Data Science Tools and Ecosystem are summarized.",
      "metadata": {}
    },
    {
      "id": "956b39e9-7af7-40c5-a05a-a83c04758df8",
      "cell_type": "markdown",
      "source": "Some of the popular languages that Data Scientists use are:\n1. Python\n2. R\n3. SQL\n4. Julia",
      "metadata": {}
    },
    {
      "id": "84f198b6-6d3f-4331-81d4-ec72485ce618",
      "cell_type": "markdown",
      "source": "Some of the commonly used libraries used by Data Scientists include:\n1. Pandas\n2. NumPy\n3. Matplotlib\n4. Scikit-learn",
      "metadata": {}
    },
    {
      "id": "f66cec4b-2c20-4f92-9241-fa828592bbb7",
      "cell_type": "markdown",
      "source": "| Data Science Tools |\n|:-------------------|\n| Jupyter Notebook   |\n| RStudio            |\n| Apache Spark       |\n",
      "metadata": {}
    },
    {
      "id": "fc7ad1bd-181a-4227-8f7d-a7c81d43d2c2",
      "cell_type": "code",
      "source": "### Below are a few examples of evaluating arithmetic expressions in Python.",
      "metadata": {
        "trusted": true
      },
      "outputs": [],
      "execution_count": 12
    },
    {
      "id": "8218ebb7-8231-4781-aeca-fa440d15cac5",
      "cell_type": "code",
      "source": "# This is a simple arithmetic expression to multiply then add integers\n(3 * 4) + 5",
      "metadata": {
        "trusted": true
      },
      "outputs": [
        {
          "execution_count": 13,
          "output_type": "execute_result",
          "data": {
            "text/plain": "17"
          },
          "metadata": {}
        }
      ],
      "execution_count": 13
    },
    {
      "id": "6edf48d2-6d49-4543-9d80-cfc6b5445454",
      "cell_type": "code",
      "source": "# This will convert 200 minutes to hours by dividing by 60\n200 / 60",
      "metadata": {
        "trusted": true
      },
      "outputs": [
        {
          "execution_count": 14,
          "output_type": "execute_result",
          "data": {
            "text/plain": "3.3333333333333335"
          },
          "metadata": {}
        }
      ],
      "execution_count": 14
    },
    {
      "id": "8a052bd2-2e1c-464c-8942-36c0e666b1b0",
      "cell_type": "markdown",
      "source": "**Objectives:**\n- List popular languages for Data Science\n- List commonly used libraries by Data Scientists\n- Create tables listing Data Science tools\n- Perform basic arithmetic expressions in Python\n- Convert minutes to hours using Python\n",
      "metadata": {}
    },
    {
      "id": "d13ca5e7-8f9a-4c86-8387-da4f8d231a0b",
      "cell_type": "markdown",
      "source": "## Author\nIrum Baseer",
      "metadata": {}
    },
    {
      "id": "a1d60f76-1058-4ee7-8261-da9ce761b848",
      "cell_type": "code",
      "source": "",
      "metadata": {
        "trusted": true
      },
      "outputs": [],
      "execution_count": null
    }
  ]
}